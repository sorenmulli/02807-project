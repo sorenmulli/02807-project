{
 "cells": [
  {
   "cell_type": "code",
   "execution_count": 2,
   "id": "e9e222b7-270b-4c15-ae40-8eaefbb35e47",
   "metadata": {},
   "outputs": [],
   "source": [
    "from collections import defaultdict\n",
    "from typing import List\n",
    "import re\n",
    "from pelutils import TickTock\n",
    "from tqdm import tqdm\n",
    "\n",
    "import pandas as pd\n",
    "from efficient_apriori import apriori\n"
   ]
  },
  {
   "cell_type": "markdown",
   "id": "101773db-940f-422c-b51b-ad4df335a070",
   "metadata": {
    "tags": []
   },
   "source": [
    "# Hashtag Itemsets"
   ]
  },
  {
   "cell_type": "code",
   "execution_count": 3,
   "id": "4ebf9b53-ad01-4483-805c-10787d02f3c0",
   "metadata": {},
   "outputs": [],
   "source": [
    "df = pd.read_csv(\n",
    "    \"../data/tweets.csv\", index_col=0, dtype=dict(userID=str, tweetID=str)\n",
    ")\n",
    "cdf = pd.read_csv(\"../data/candidates_with_id.csv\", index_col=0, dtype=dict(id=str))\n",
    "tweets = df.tweet"
   ]
  },
  {
   "cell_type": "markdown",
   "id": "3b80b3d4-9ead-4140-bdf4-ac43bea3dfe4",
   "metadata": {},
   "source": [
    "Use Regex to match each hashtag and count simple basket and item statistics "
   ]
  },
  {
   "cell_type": "code",
   "execution_count": 4,
   "id": "5819ee33-9158-4d25-85f6-9d0bdc426009",
   "metadata": {},
   "outputs": [],
   "source": [
    "hashtag_pattern = r\"(?i)\\#\\w+\"\n",
    "\n",
    "def get_hashtags(tweets: List[str]) -> List[List[str]]:\n",
    "    all_hashtags = defaultdict(lambda: 0)\n",
    "    hashtags = list()\n",
    "    for tweet in tweets:\n",
    "        matches = []\n",
    "        if not pd.isna(tweet):\n",
    "            matches.extend(\n",
    "                [x.lower().replace(\"#\", \"\") for x in re.findall(hashtag_pattern, tweet)]\n",
    "            )\n",
    "        for m in matches:\n",
    "            all_hashtags[m] += 1\n",
    "        hashtags.append(tuple(matches))\n",
    "\n",
    "    print(f\"Unique hashtags n={len(all_hashtags.keys())}\")\n",
    "    print(\"Total mentions\", sum(all_hashtags.values()))\n",
    "    print(\"Total baskets\", len(hashtags))\n",
    "    print(\"Total non-empty baskets\", tot := len([x for x in hashtags if x]))\n",
    "    print(\"Top 10 hashtags\")\n",
    "    for i, k in enumerate(\n",
    "        sorted(all_hashtags, key=all_hashtags.get, reverse=True)[:10]\n",
    "    ):\n",
    "        print(\"\\t\", i + 1, k, all_hashtags[k] / tot * 100)\n",
    "    return [x for x in hashtags if x]\n",
    "\n",
    "def print_res(itemsets, rules):\n",
    "    m = 2\n",
    "    for k in sorted(itemsets[m], key=itemsets[m].get, reverse=True):\n",
    "        v = itemsets[m][k]\n",
    "        if \"dkpol\" in k:\n",
    "            print(f\"{k}: {v}\")\n",
    "    for r in rules:\n",
    "        if (\"dkpol\" in r.lhs or \"dkpol\" in r.rhs) and (len(r.rhs) > 1 or len(r.lhs) > 1):\n",
    "            print(r)"
   ]
  },
  {
   "cell_type": "markdown",
   "id": "f94e73d0-c64d-4470-bd2d-56a4c1ba8da7",
   "metadata": {},
   "source": [
    "Run the A-Priori algorithm"
   ]
  },
  {
   "cell_type": "code",
   "execution_count": 5,
   "id": "de986632-8443-4cce-9e82-72994a4eae62",
   "metadata": {},
   "outputs": [
    {
     "name": "stdout",
     "output_type": "stream",
     "text": [
      "Unique hashtags n=4535\n",
      "Total mentions 19522\n",
      "Total baskets 53342\n",
      "Total non-empty baskets 11885\n",
      "Top 10 hashtags\n",
      "\t 1 dkpol 55.39755994951619\n",
      "\t 2 worlds2022 5.61211611274716\n",
      "\t 3 dkmedier 5.258729490954985\n",
      "\t 4 dkgreen 3.500210349179638\n",
      "\t 5 fv22 3.3151030710980223\n",
      "\t 6 ftvalg22 1.8342448464450989\n",
      "\t 7 periscope 0.8834665544804375\n",
      "\t 8 sundpol 0.8750525872949095\n",
      "\t 9 uddpol 0.7572570466975179\n",
      "\t 10 lec 0.7572570466975179\n",
      "('dkmedier', 'dkpol'): 548\n",
      "('dkgreen', 'dkpol'): 341\n",
      "('dkpol', 'fv22'): 261\n",
      "('dkpol', 'ftvalg22'): 187\n",
      "('dkpol', 'sundpol'): 87\n",
      "('dkpol', 'uddpol'): 65\n",
      "('dkpol', 'eudk'): 57\n",
      "('dkpol', 'eupol'): 52\n",
      "('dkpol', 'fv15'): 44\n",
      "('brydfri', 'dkpol'): 42\n",
      "('dkpol', 'fv19'): 39\n",
      "('dkpol', 'ftlive'): 38\n",
      "('dkpol', 'valg2022'): 36\n",
      "('bondampåborgen', 'dkpol'): 34\n",
      "('dkbiz', 'dkpol'): 34\n"
     ]
    }
   ],
   "source": [
    "hashtags = get_hashtags(tweets)\n",
    "itemsets, rules = apriori(hashtags, min_support=0.25 / 100, min_confidence=0.75)\n",
    "print_res(itemsets, rules)"
   ]
  },
  {
   "cell_type": "markdown",
   "id": "34fbc838-610c-445d-ac26-59fc6095a1c1",
   "metadata": {},
   "source": [
    "Partition the dataset based on political bloc and rerun A-Priori"
   ]
  },
  {
   "cell_type": "code",
   "execution_count": 6,
   "id": "fc0f198d-ee2f-447c-966a-59dcb3c1205a",
   "metadata": {},
   "outputs": [
    {
     "name": "stdout",
     "output_type": "stream",
     "text": [
      "Bloc hashtags for red\n"
     ]
    },
    {
     "name": "stderr",
     "output_type": "stream",
     "text": [
      "100%|██████████████████████████████████████████████████████████████████████████████████████████████████████████████████████████████████████████████████████████████████████████████████████████████████| 53342/53342 [00:13<00:00, 3972.18it/s]\n"
     ]
    },
    {
     "name": "stdout",
     "output_type": "stream",
     "text": [
      "Unique hashtags n=2107\n",
      "Total mentions 7673\n",
      "Total baskets 22046\n",
      "Total non-empty baskets 4779\n",
      "Top 10 hashtags\n",
      "\t 1 dkpol 59.59405733417032\n",
      "\t 2 dkgreen 5.942665829671479\n",
      "\t 3 fv22 4.561623770663319\n",
      "\t 4 dkmedier 2.8457836367440885\n",
      "\t 5 ftvalg22 1.7367650136011719\n",
      "\t 6 uddpol 1.5484410964636954\n",
      "\t 7 radikale 0.8160703075957313\n",
      "\t 8 stemgrønt 0.7742205482318477\n",
      "\t 9 bondampåborgen 0.7114459091860221\n",
      "\t 10 sundpol 0.6695961498221386\n",
      "('dkgreen', 'dkpol'): 232\n",
      "('dkpol', 'fv22'): 136\n",
      "('dkmedier', 'dkpol'): 103\n",
      "('dkpol', 'ftvalg22'): 66\n",
      "('dkpol', 'uddpol'): 51\n",
      "('bondampåborgen', 'dkpol'): 34\n",
      "('dkpol', 'radikale'): 27\n",
      "('dkpol', 'sundpol'): 23\n",
      "('dkpol', 'tænknyt'): 23\n",
      "('dkpol', 'eupol'): 21\n",
      "('dkpol', 'spolitik'): 17\n",
      "('dkpol', 'dyrevelfærd'): 16\n",
      "('dkbiz', 'dkpol'): 15\n",
      "('dkpol', 'ligestilling'): 15\n",
      "('debatten', 'dkpol'): 14\n",
      "('covid19dk', 'dkpol'): 13\n",
      "('dkpol', 'fv15'): 13\n",
      "('dkpol', 'fv19'): 12\n",
      "('dkpol', 'valg2022'): 12\n",
      "{bondampåborgen, tænknyt} -> {dkpol} (conf: 1.000, supp: 0.004, lift: 1.680, conv: 404687173.049)\n",
      "{ftvalg22, fv22} -> {dkpol} (conf: 0.944, supp: 0.004, lift: 1.586, conv: 7.284)\n",
      "Bloc hashtags for blue\n"
     ]
    },
    {
     "name": "stderr",
     "output_type": "stream",
     "text": [
      "100%|██████████████████████████████████████████████████████████████████████████████████████████████████████████████████████████████████████████████████████████████████████████████████████████████████| 53342/53342 [00:13<00:00, 3909.36it/s]\n"
     ]
    },
    {
     "name": "stdout",
     "output_type": "stream",
     "text": [
      "Unique hashtags n=2176\n",
      "Total mentions 7954\n",
      "Total baskets 21292\n",
      "Total non-empty baskets 4695\n",
      "Top 10 hashtags\n",
      "\t 1 dkpol 57.9765708200213\n",
      "\t 2 dkmedier 7.987220447284344\n",
      "\t 3 ftvalg22 2.2790202342918\n",
      "\t 4 periscope 2.215122470713525\n",
      "\t 5 fv22 2.0873269435569752\n",
      "\t 6 dkgreen 1.4909478168264112\n",
      "\t 7 besserwisserne 1.0223642172523961\n",
      "\t 8 konservative 0.9158679446219382\n",
      "\t 9 culture 0.8306709265175719\n",
      "\t 10 fv15 0.8093716719914802\n",
      "('dkmedier', 'dkpol'): 337\n",
      "('dkpol', 'ftvalg22'): 95\n",
      "('dkpol', 'fv22'): 76\n",
      "('dkgreen', 'dkpol'): 60\n",
      "('dkpol', 'eupol'): 31\n",
      "('dkpol', 'fv15'): 31\n",
      "('dkpol', 'jvdk'): 28\n",
      "('dkpol', 'ftlive'): 27\n",
      "('dkpol', 'fv19'): 26\n",
      "('dkpol', 'tvsyd'): 25\n",
      "('dkpol', 'drdinstemme'): 24\n",
      "('dkpol', 'stopracisme'): 24\n",
      "('dkpol', 'konservative'): 23\n",
      "('dkpol', 'eudk'): 21\n",
      "('dkpol', 'minkgate'): 17\n",
      "('dkpol', 'stemliberalt'): 17\n",
      "('dkpol', 'sundpol'): 17\n",
      "('dkpol', 'kdpol'): 15\n",
      "('dkpol', 'tv2valg'): 15\n",
      "('dkpol', 'handicap'): 14\n",
      "('dkpol', 'fv2022'): 13\n",
      "('dkpol', 'stemla'): 13\n",
      "{drdinstemme, fv15} -> {dkpol} (conf: 0.833, supp: 0.003, lift: 1.439, conv: 2.525)\n",
      "{drdinstemme, stemliberalt} -> {dkpol} (conf: 0.929, supp: 0.003, lift: 1.603, conv: 5.892)\n",
      "{dkpol, stemliberalt} -> {drdinstemme} (conf: 0.765, supp: 0.003, lift: 102.580, conv: 4.218)\n",
      "{fv15, stemliberalt} -> {dkpol} (conf: 0.938, supp: 0.003, lift: 1.619, conv: 6.734)\n",
      "{dkpol, stemliberalt} -> {fv15} (conf: 0.882, supp: 0.003, lift: 109.017, conv: 8.431)\n",
      "{stemliberalt} -> {dkpol, fv15} (conf: 0.833, supp: 0.003, lift: 126.210, conv: 5.960)\n",
      "{jvdk, tvsyd} -> {dkpol} (conf: 1.000, supp: 0.004, lift: 1.727, conv: 420873269.436)\n",
      "{dkpol, tvsyd} -> {jvdk} (conf: 0.760, supp: 0.004, lift: 127.436, conv: 4.142)\n",
      "{drdinstemme, fv15, stemliberalt} -> {dkpol} (conf: 0.923, supp: 0.003, lift: 1.594, conv: 5.471)\n",
      "{dkpol, fv15, stemliberalt} -> {drdinstemme} (conf: 0.800, supp: 0.003, lift: 107.314, conv: 4.963)\n",
      "{dkpol, drdinstemme, stemliberalt} -> {fv15} (conf: 0.923, supp: 0.003, lift: 114.049, conv: 12.895)\n",
      "{dkpol, drdinstemme, fv15} -> {stemliberalt} (conf: 0.800, supp: 0.003, lift: 208.667, conv: 4.981)\n",
      "{fv15, stemliberalt} -> {dkpol, drdinstemme} (conf: 0.750, supp: 0.003, lift: 146.719, conv: 3.980)\n",
      "{drdinstemme, stemliberalt} -> {dkpol, fv15} (conf: 0.857, supp: 0.003, lift: 129.816, conv: 6.954)\n"
     ]
    }
   ],
   "source": [
    "def partition(all_tweets: List[str], bloc: str) -> List[str]:\n",
    "    red = set(\"ABFQØÅ\")\n",
    "    tweets = list()\n",
    "    for tweet, user_id in zip(tqdm(all_tweets), df.userID):\n",
    "        matches = cdf[cdf.id == user_id].Party.tolist()\n",
    "        if matches:\n",
    "            if (matches[0] in red) == (bloc == \"red\"):\n",
    "                tweets.append(tweet)\n",
    "    return tweets\n",
    "\n",
    "for name in \"red\", \"blue\":\n",
    "    print(\"Bloc hashtags for\", name)\n",
    "    bloc_hashtags = get_hashtags(partition(tweets, name))\n",
    "    itemsets, rules = apriori(\n",
    "        bloc_hashtags, min_support=0.25 / 100, min_confidence=0.75\n",
    "    )\n",
    "    print_res(itemsets, rules)"
   ]
  }
 ],
 "metadata": {
  "kernelspec": {
   "display_name": "Python 3 (ipykernel)",
   "language": "python",
   "name": "python3"
  },
  "language_info": {
   "codemirror_mode": {
    "name": "ipython",
    "version": 3
   },
   "file_extension": ".py",
   "mimetype": "text/x-python",
   "name": "python",
   "nbconvert_exporter": "python",
   "pygments_lexer": "ipython3",
   "version": "3.9.14"
  }
 },
 "nbformat": 4,
 "nbformat_minor": 5
}
